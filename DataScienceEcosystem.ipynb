{
 "cells": [
  {
   "cell_type": "code",
   "execution_count": 1,
   "id": "f2cacdd2-a2a2-46c1-bdcf-6de3cf3e3bd9",
   "metadata": {},
   "outputs": [
    {
     "name": "stdout",
     "output_type": "stream",
     "text": [
      "Hello World\n"
     ]
    }
   ],
   "source": [
    "print(\"Hello World\")\n"
   ]
  },
  {
   "cell_type": "markdown",
   "id": "b3ee7922-f0ff-4cc6-bc58-524f3106ccc3",
   "metadata": {},
   "source": [
    "# Data Science Tools and Ecosystem\n",
    "\n"
   ]
  },
  {
   "cell_type": "markdown",
   "id": "5cfa2558-7c2a-497d-bb63-205ea00d2f1c",
   "metadata": {},
   "source": [
    "In this notebook, Data Science Tools and Ecosystem are summarized."
   ]
  },
  {
   "cell_type": "markdown",
   "id": "dcd2c626-a543-497d-9156-0117854a4158",
   "metadata": {},
   "source": [
    "Some of the popular languages that Data Scientists use are:"
   ]
  },
  {
   "cell_type": "markdown",
   "id": "225f056d-71b9-4544-b964-1f5fef7a96e4",
   "metadata": {},
   "source": [
    "1. Python\n",
    "2. R\n",
    "3. SQL\n",
    "4. JULIA"
   ]
  },
  {
   "cell_type": "markdown",
   "id": "bef8efef-1e1d-4b06-b45a-2367bb9b6af7",
   "metadata": {},
   "source": [
    "Some of the commonly used libraries used by Data Scientists include:\n",
    "1. NumPy\n",
    "2. Pandas\n",
    "3. Matplotlib\n",
    "4. Seaborn"
   ]
  },
  {
   "cell_type": "markdown",
   "id": "490ba82f-8436-4374-84b1-dd7256d86a13",
   "metadata": {},
   "source": [
    "|Data Science Tools|\n",
    "|------------------|\n",
    "|Jupyter Notebook  |\n",
    "|RStudio           |\n",
    "|Spyder            |\n",
    "|Anaconda          |"
   ]
  },
  {
   "cell_type": "markdown",
   "id": "db28c902-ee78-4bf4-94f8-f6a8b9e95bfc",
   "metadata": {},
   "source": [
    "### Below are a few examples of evaluating arithmetic expressions in Python.\n",
    "1. **Addition**: '1 + 2 = 3'\n",
    "2. **Subtraction**: '5 - 3 = 2'\n",
    "3. **Multiplication**: '2 * 2 = 4'\n",
    "4. **Division**: '6 / 2 = 3'\n"
   ]
  },
  {
   "cell_type": "code",
   "execution_count": 2,
   "id": "cf745f5b-f44d-4487-8594-f71064eee11f",
   "metadata": {},
   "outputs": [
    {
     "name": "stdout",
     "output_type": "stream",
     "text": [
      "17\n"
     ]
    }
   ],
   "source": [
    "# This is a simple arithmetic expression to multiply then add integers.\n",
    "result = (3 * 4) + 5\n",
    "print(result)"
   ]
  },
  {
   "cell_type": "code",
   "execution_count": 4,
   "id": "1dc52613-309e-4959-ae8d-bfa1527808f8",
   "metadata": {},
   "outputs": [
    {
     "name": "stdout",
     "output_type": "stream",
     "text": [
      "3.3333333333333335\n"
     ]
    }
   ],
   "source": [
    "# This will convert 200 minutes to hours by dividing by 60.\n",
    "Hours = 200 / 60\n",
    "print(Hours)"
   ]
  },
  {
   "cell_type": "markdown",
   "id": "8ef3b119-1da5-465d-831a-4e0ae8568ae0",
   "metadata": {},
   "source": [
    "**Objectives**\n",
    "- List popular languages for Data Science\n",
    "- Popular Data Science Libraries\n",
    "- Basic arithmetic operations\n",
    "- Minutes to Hours convertion"
   ]
  },
  {
   "cell_type": "markdown",
   "id": "0e299e40-186e-4a7d-946f-b9bfaebd67b8",
   "metadata": {},
   "source": [
    "## Author\n",
    "Sneha M V\n"
   ]
  },
  {
   "cell_type": "code",
   "execution_count": null,
   "id": "510b91b8-d3a6-4320-9e6c-09c05fa09332",
   "metadata": {},
   "outputs": [],
   "source": []
  }
 ],
 "metadata": {
  "kernelspec": {
   "display_name": "Python 3 (ipykernel)",
   "language": "python",
   "name": "python3"
  },
  "language_info": {
   "codemirror_mode": {
    "name": "ipython",
    "version": 3
   },
   "file_extension": ".py",
   "mimetype": "text/x-python",
   "name": "python",
   "nbconvert_exporter": "python",
   "pygments_lexer": "ipython3",
   "version": "3.11.7"
  }
 },
 "nbformat": 4,
 "nbformat_minor": 5
}
